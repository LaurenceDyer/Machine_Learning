{
 "cells": [
  {
   "cell_type": "markdown",
   "id": "ec2ea133",
   "metadata": {},
   "source": [
    "Sudoku puzzles take place on a 9x9 grid, where the players' aim is to fill the grid with numbers such that each row, column and internal 3x3 grid contains each number, from 1 to 9, once and only once. An interesting challenge. Here we will try to use a CNN (Convolution Neural Network) to take advantage of the spatial features of the sudoku puzzle in order to train a model that can solve new, unseen sudoku starting grids. \n",
    "\n",
    "CNNs are designed largely for use in computer vision and are inspired by the biological neurons in the visual cortex, wherein each neuron scans only a small region of the visual field (Our 9x9 grid) and passes its information to a central layer of processing units. Hopefully such a network should be able to extract from our input data the correct spatial features and apply them to solving the problem of filling in the remaining squares."
   ]
  },
  {
   "cell_type": "code",
   "execution_count": 85,
   "id": "f0455708",
   "metadata": {},
   "outputs": [],
   "source": [
    "import pandas as pd\n",
    "import numpy as np\n",
    "from math import sqrt\n",
    "from tqdm import tqdm\n",
    "\n",
    "from plot_keras_history import show_history, plot_history\n",
    "import matplotlib.pyplot as plt\n",
    "import matplotlib as mpl\n",
    "from matplotlib.colors import ListedColormap\n",
    "\n",
    "from keras.layers import Embedding, LSTM, Dense, Dropout, Conv2D, Flatten, Reshape, BatchNormalization, Activation\n",
    "from keras.models import Sequential\n",
    "import keras\n",
    "from sklearn.model_selection import train_test_split\n",
    "from sklearn.metrics import accuracy_score"
   ]
  },
  {
   "cell_type": "code",
   "execution_count": 2,
   "id": "7e08abfd",
   "metadata": {},
   "outputs": [
    {
     "name": "stdout",
     "output_type": "stream",
     "text": [
      "                                                   quizzes  \\\n",
      "0        3274568919183725464659817325328641797915236848...   \n",
      "1        1538972649876241532645139876327518498493625705...   \n",
      "2        6851374293174928569428651738295167341567432984...   \n",
      "3        8396245714207513981579382643941627852618759435...   \n",
      "4        3168275944593617288724951636872543192459138769...   \n",
      "...                                                    ...   \n",
      "3999995  0005060000020000500600000170000000002300000000...   \n",
      "3999996  0040020000000900000060000001000400000900004004...   \n",
      "3999997  0000050000000001000902000000450000000600003000...   \n",
      "3999998  0090000007300000055000000006000080000050000000...   \n",
      "3999999  0000000090000000000800000010000000002040010306...   \n",
      "\n",
      "                                                 solutions  clue_numbers  \n",
      "0        3274568919183725464659817325328641797915236848...            80  \n",
      "1        1538972649876241532645139876327518498493625715...            80  \n",
      "2        6851374293174928569428651738295167341567432984...            80  \n",
      "3        8396245714267513981579382643941627852618759435...            80  \n",
      "4        3168275944593617288724951636872543192459138769...            80  \n",
      "...                                                    ...           ...  \n",
      "3999995  1475968323821746595693284177169853242347615989...            17  \n",
      "3999996  9846327157514983623261759481325476896982134574...            17  \n",
      "3999997  1728654396583491274932176858459312762675843913...            17  \n",
      "3999998  8496521377314892655623719486271385944952678133...            17  \n",
      "3999999  1463782599521647833879256417352498162946815376...            17  \n",
      "\n",
      "[4000000 rows x 3 columns]\n"
     ]
    }
   ],
   "source": [
    "sudoku = pd.read_csv(\"sudoku_cluewise.csv\")\n",
    "\n",
    "print(sudoku)"
   ]
  },
  {
   "cell_type": "markdown",
   "id": "0ec6d820",
   "metadata": {},
   "source": [
    "Data was sourced from KAGGLE: https://www.kaggle.com/code/abdelbakiguir/sudoku-puzzles-knn-rf-99/data\n",
    "\n",
    "Data is organised into 3 columns, the first two columns store unsolved and solved puzzles as flat strings of 81 (9x9) numbers, with the number 0 representing unsolved squares. We have access to 4,000,000 potential sudoku puzzles, ranging in difficulty from 80/81 provided clues (Extremely easy) to 17/81 provided clues (The hardest possible). Each sudoku has one solution, and one solution only.\n",
    "\n",
    "Lets begin by inputting our data via pandas. To view what our puzzles look like, we'll write a quick couple of plot functions that will take as input the difficulty (Between 17 and 80) and unflatten the strings of unsolved puzzles and present them as they would be seen by a potential puzzle solver."
   ]
  },
  {
   "cell_type": "code",
   "execution_count": 5,
   "id": "d830531c",
   "metadata": {},
   "outputs": [],
   "source": [
    "def flatten(xss):\n",
    "    return [x for xs in xss for x in xs]\n",
    "\n",
    "def get_sudoku(difficulty):\n",
    "    if difficulty in range(17,81,1):\n",
    "        sudoku_view = sudoku[sudoku[\"clue_numbers\"] == difficulty]\n",
    "        sudoku_view = sudoku_view.sample(1)\n",
    "        m = flatten(sudoku_view[\"quizzes\"].str.split(\"\").values.tolist())\n",
    "        m.pop(0)\n",
    "        m.pop(len(m)-1)\n",
    "        \n",
    "        df = pd.DataFrame(np.array([(x+1, y+1) for x in range(int(sqrt(len(m)))) for y in range(int(sqrt(len(m))))]), columns = [\"x\",\"y\"])\n",
    "        df[\"val\"] = m\n",
    "        return(df)\n",
    "        \n",
    "def plot_sudoku(df):    \n",
    "    fig, ax = plt.subplots()\n",
    "    \n",
    "    cmap = ListedColormap([\"w\", \"whitesmoke\"])\n",
    "    \n",
    "    ax.matshow([[0,0.1,0,0.1,0,0.1,0,0.1,0],[0.1,0,0.1,0,0.1,0,0.1,0,0.1],[0,0.1,0,0.1,0,0.1,0,0.1,0],\n",
    "               [0.1,0,0.1,0,0.1,0,0.1,0,0.1],[0,0.1,0,0.1,0,0.1,0,0.1,0],[0.1,0,0.1,0,0.1,0,0.1,0,0.1],\n",
    "               [0,0.1,0,0.1,0,0.1,0,0.1,0],[0.1,0,0.1,0,0.1,0,0.1,0,0.1],[0,0.1,0,0.1,0,0.1,0,0.1,0]], cmap=cmap)\n",
    "    \n",
    "    for i in df[\"x\"]:\n",
    "        for j in df[\"y\"]:\n",
    "            idx = (df['x'] == i) & (df['y'] == j)\n",
    "            t = df.loc[idx][\"val\"].values[0]\n",
    "            ax.text(i-1,j-1,t, ha='center', va='center')\n",
    "    \n",
    "    plt.vlines(-0.5, -0.5, 8.5)\n",
    "    plt.hlines(-0.5, -0.5, 8.5)\n",
    "    plt.vlines(2.5, -0.5, 8.5)\n",
    "    plt.hlines(2.5, -0.5, 8.5)\n",
    "    plt.vlines(5.5, -0.5, 8.5)\n",
    "    plt.hlines(5.5, -0.5, 8.5)\n",
    "    plt.vlines(8.5, -0.5, 8.5)\n",
    "    plt.hlines(8.5, -0.5, 8.5)\n",
    "    \n",
    "    plt.axis('off')\n",
    "    plt.show()   \n",
    "    \n",
    "def splitC(word):\n",
    "    return [char for char in word]"
   ]
  },
  {
   "cell_type": "code",
   "execution_count": 6,
   "id": "69062478",
   "metadata": {},
   "outputs": [
    {
     "data": {
      "image/png": "[encoded data removed]",
      "text/plain": [
       "<Figure size 432x288 with 1 Axes>"
      ]
     },
     "metadata": {
      "needs_background": "light"
     },
     "output_type": "display_data"
    }
   ],
   "source": [
    "df = get_sudoku(30)\n",
    "\n",
    "plot_sudoku(df)"
   ]
  },
  {
   "cell_type": "markdown",
   "id": "760dcb0f",
   "metadata": {},
   "source": [
    "Great. This is useful for us to get a visual representation of the problem at hand, but our CNN will simply read in the flat list of 81 numbers as its input, and will use the correct flat list of 81 numbers (Taken from the solutions column) as its label. First, we must focus on setting up our input data. We must reshape each of our strings into sudokus, as above, and then normalize them to roughly -1:1. Conveniently, we can easily normalize by dividing by 9 and subtracting 0.5."
   ]
  },
  {
   "cell_type": "code",
   "execution_count": 37,
   "id": "adc3297c",
   "metadata": {},
   "outputs": [
    {
     "name": "stderr",
     "output_type": "stream",
     "text": [
      "100%|█████████████████████████████████████████████████████████████████████| 4000000/4000000 [01:19<00:00, 50291.17it/s]\n",
      "100%|█████████████████████████████████████████████████████████████████████| 4000000/4000000 [01:25<00:00, 46952.25it/s]\n"
     ]
    },
    {
     "name": "stdout",
     "output_type": "stream",
     "text": [
      "[[[[-0.16666667]\n",
      "   [-0.27777778]\n",
      "   [ 0.27777778]\n",
      "   ...\n",
      "   [ 0.38888889]\n",
      "   [ 0.5       ]\n",
      "   [-0.38888889]]\n",
      "\n",
      "  [[ 0.5       ]\n",
      "   [-0.38888889]\n",
      "   [ 0.38888889]\n",
      "   ...\n",
      "   [ 0.05555556]\n",
      "   [-0.05555556]\n",
      "   [ 0.16666667]]\n",
      "\n",
      "  [[-0.05555556]\n",
      "   [ 0.16666667]\n",
      "   [ 0.05555556]\n",
      "   ...\n",
      "   [ 0.27777778]\n",
      "   [-0.16666667]\n",
      "   [-0.27777778]]\n",
      "\n",
      "  ...\n",
      "\n",
      "  [[ 0.16666667]\n",
      "   [ 0.05555556]\n",
      "   [-0.16666667]\n",
      "   ...\n",
      "   [ 0.5       ]\n",
      "   [-0.27777778]\n",
      "   [ 0.27777778]]\n",
      "\n",
      "  [[-0.27777778]\n",
      "   [ 0.27777778]\n",
      "   [ 0.5       ]\n",
      "   ...\n",
      "   [-0.05555556]\n",
      "   [-0.38888889]\n",
      "   [ 0.38888889]]\n",
      "\n",
      "  [[-0.38888889]\n",
      "   [ 0.38888889]\n",
      "   [-0.05555556]\n",
      "   ...\n",
      "   [-0.16666667]\n",
      "   [ 0.16666667]\n",
      "   [ 0.05555556]]]\n",
      "\n",
      "\n",
      " [[[-0.38888889]\n",
      "   [ 0.05555556]\n",
      "   [-0.16666667]\n",
      "   ...\n",
      "   [-0.27777778]\n",
      "   [ 0.16666667]\n",
      "   [-0.05555556]]\n",
      "\n",
      "  [[ 0.5       ]\n",
      "   [ 0.38888889]\n",
      "   [ 0.27777778]\n",
      "   ...\n",
      "   [-0.38888889]\n",
      "   [ 0.05555556]\n",
      "   [-0.16666667]]\n",
      "\n",
      "  [[-0.27777778]\n",
      "   [ 0.16666667]\n",
      "   [-0.05555556]\n",
      "   ...\n",
      "   [ 0.5       ]\n",
      "   [ 0.38888889]\n",
      "   [ 0.27777778]]\n",
      "\n",
      "  ...\n",
      "\n",
      "  [[ 0.27777778]\n",
      "   [ 0.5       ]\n",
      "   [ 0.05555556]\n",
      "   ...\n",
      "   [-0.16666667]\n",
      "   [-0.38888889]\n",
      "   [ 0.16666667]]\n",
      "\n",
      "  [[-0.16666667]\n",
      "   [-0.38888889]\n",
      "   [ 0.16666667]\n",
      "   ...\n",
      "   [-0.05555556]\n",
      "   [-0.27777778]\n",
      "   [ 0.38888889]]\n",
      "\n",
      "  [[-0.05555556]\n",
      "   [-0.27777778]\n",
      "   [ 0.38888889]\n",
      "   ...\n",
      "   [ 0.27777778]\n",
      "   [ 0.5       ]\n",
      "   [ 0.05555556]]]\n",
      "\n",
      "\n",
      " [[[ 0.16666667]\n",
      "   [ 0.38888889]\n",
      "   [ 0.05555556]\n",
      "   ...\n",
      "   [-0.05555556]\n",
      "   [-0.27777778]\n",
      "   [ 0.5       ]]\n",
      "\n",
      "  [[-0.16666667]\n",
      "   [-0.38888889]\n",
      "   [ 0.27777778]\n",
      "   ...\n",
      "   [ 0.38888889]\n",
      "   [ 0.05555556]\n",
      "   [ 0.16666667]]\n",
      "\n",
      "  [[ 0.5       ]\n",
      "   [-0.05555556]\n",
      "   [-0.27777778]\n",
      "   ...\n",
      "   [-0.38888889]\n",
      "   [ 0.27777778]\n",
      "   [-0.16666667]]\n",
      "\n",
      "  ...\n",
      "\n",
      "  [[-0.27777778]\n",
      "   [-0.16666667]\n",
      "   [-0.05555556]\n",
      "   ...\n",
      "   [ 0.16666667]\n",
      "   [-0.5       ]\n",
      "   [ 0.27777778]]\n",
      "\n",
      "  [[ 0.05555556]\n",
      "   [ 0.5       ]\n",
      "   [ 0.38888889]\n",
      "   ...\n",
      "   [-0.16666667]\n",
      "   [-0.05555556]\n",
      "   [-0.27777778]]\n",
      "\n",
      "  [[ 0.27777778]\n",
      "   [ 0.16666667]\n",
      "   [-0.38888889]\n",
      "   ...\n",
      "   [ 0.5       ]\n",
      "   [ 0.38888889]\n",
      "   [ 0.05555556]]]\n",
      "\n",
      "\n",
      " ...\n",
      "\n",
      "\n",
      " [[[-0.5       ]\n",
      "   [-0.5       ]\n",
      "   [-0.5       ]\n",
      "   ...\n",
      "   [-0.5       ]\n",
      "   [-0.5       ]\n",
      "   [-0.5       ]]\n",
      "\n",
      "  [[-0.5       ]\n",
      "   [-0.5       ]\n",
      "   [-0.5       ]\n",
      "   ...\n",
      "   [-0.38888889]\n",
      "   [-0.5       ]\n",
      "   [-0.5       ]]\n",
      "\n",
      "  [[-0.5       ]\n",
      "   [ 0.5       ]\n",
      "   [-0.5       ]\n",
      "   ...\n",
      "   [-0.5       ]\n",
      "   [-0.5       ]\n",
      "   [-0.5       ]]\n",
      "\n",
      "  ...\n",
      "\n",
      "  [[-0.5       ]\n",
      "   [-0.5       ]\n",
      "   [-0.5       ]\n",
      "   ...\n",
      "   [ 0.05555556]\n",
      "   [-0.5       ]\n",
      "   [-0.16666667]]\n",
      "\n",
      "  [[-0.5       ]\n",
      "   [-0.5       ]\n",
      "   [-0.5       ]\n",
      "   ...\n",
      "   [-0.5       ]\n",
      "   [-0.5       ]\n",
      "   [-0.5       ]]\n",
      "\n",
      "  [[-0.5       ]\n",
      "   [-0.5       ]\n",
      "   [-0.5       ]\n",
      "   ...\n",
      "   [-0.5       ]\n",
      "   [-0.5       ]\n",
      "   [-0.5       ]]]\n",
      "\n",
      "\n",
      " [[[-0.5       ]\n",
      "   [-0.5       ]\n",
      "   [ 0.5       ]\n",
      "   ...\n",
      "   [-0.5       ]\n",
      "   [-0.5       ]\n",
      "   [-0.5       ]]\n",
      "\n",
      "  [[ 0.27777778]\n",
      "   [-0.16666667]\n",
      "   [-0.5       ]\n",
      "   ...\n",
      "   [-0.5       ]\n",
      "   [-0.5       ]\n",
      "   [ 0.05555556]]\n",
      "\n",
      "  [[ 0.05555556]\n",
      "   [-0.5       ]\n",
      "   [-0.5       ]\n",
      "   ...\n",
      "   [-0.5       ]\n",
      "   [-0.5       ]\n",
      "   [-0.5       ]]\n",
      "\n",
      "  ...\n",
      "\n",
      "  [[-0.5       ]\n",
      "   [-0.5       ]\n",
      "   [-0.5       ]\n",
      "   ...\n",
      "   [-0.5       ]\n",
      "   [-0.5       ]\n",
      "   [-0.5       ]]\n",
      "\n",
      "  [[-0.5       ]\n",
      "   [-0.5       ]\n",
      "   [-0.5       ]\n",
      "   ...\n",
      "   [ 0.16666667]\n",
      "   [ 0.05555556]\n",
      "   [-0.5       ]]\n",
      "\n",
      "  [[-0.5       ]\n",
      "   [ 0.05555556]\n",
      "   [-0.5       ]\n",
      "   ...\n",
      "   [-0.5       ]\n",
      "   [ 0.38888889]\n",
      "   [-0.5       ]]]\n",
      "\n",
      "\n",
      " [[[-0.5       ]\n",
      "   [-0.5       ]\n",
      "   [-0.5       ]\n",
      "   ...\n",
      "   [-0.5       ]\n",
      "   [-0.5       ]\n",
      "   [ 0.5       ]]\n",
      "\n",
      "  [[-0.5       ]\n",
      "   [-0.5       ]\n",
      "   [-0.5       ]\n",
      "   ...\n",
      "   [-0.5       ]\n",
      "   [-0.5       ]\n",
      "   [-0.5       ]]\n",
      "\n",
      "  [[-0.5       ]\n",
      "   [ 0.38888889]\n",
      "   [-0.5       ]\n",
      "   ...\n",
      "   [-0.5       ]\n",
      "   [-0.5       ]\n",
      "   [-0.38888889]]\n",
      "\n",
      "  ...\n",
      "\n",
      "  [[-0.5       ]\n",
      "   [-0.5       ]\n",
      "   [-0.5       ]\n",
      "   ...\n",
      "   [-0.16666667]\n",
      "   [-0.5       ]\n",
      "   [ 0.38888889]]\n",
      "\n",
      "  [[-0.05555556]\n",
      "   [-0.27777778]\n",
      "   [-0.5       ]\n",
      "   ...\n",
      "   [-0.5       ]\n",
      "   [ 0.27777778]\n",
      "   [-0.5       ]]\n",
      "\n",
      "  [[-0.5       ]\n",
      "   [-0.5       ]\n",
      "   [-0.16666667]\n",
      "   ...\n",
      "   [-0.5       ]\n",
      "   [-0.5       ]\n",
      "   [-0.5       ]]]]\n",
      "(4000000, 9, 9, 1)\n"
     ]
    }
   ],
   "source": [
    "solutions = sudoku[\"solutions\"]\n",
    "solutions_mat = []\n",
    "\n",
    "for i in tqdm(solutions):\n",
    "    x = np.array([int(num) for num in i]).reshape((81,1)) - 1\n",
    "    solutions_mat.append(x)   \n",
    "    \n",
    "solutions_mat = np.array(solutions_mat)\n",
    "    \n",
    "quizzes = sudoku[\"quizzes\"]\n",
    "quizzes_mat = []\n",
    "\n",
    "for i in tqdm(quizzes):\n",
    "    x = np.array([int(num) for num in i]).reshape((9,9,1))\n",
    "    quizzes_mat.append(x) \n",
    "        \n",
    "quizzes_mat = np.array(quizzes_mat)\n",
    "quizzes_mat = quizzes_mat/9\n",
    "quizzes_mat -= .5\n",
    "\n",
    "print(quizzes_mat)\n",
    "print(quizzes_mat.shape)"
   ]
  },
  {
   "cell_type": "code",
   "execution_count": 38,
   "id": "609ec800",
   "metadata": {},
   "outputs": [
    {
     "name": "stdout",
     "output_type": "stream",
     "text": [
      "(4000000, 9, 9, 1)\n",
      "(4000000, 81, 1)\n"
     ]
    }
   ],
   "source": [
    "print(quizzes_mat.shape)\n",
    "print(solutions_mat.shape)"
   ]
  },
  {
   "cell_type": "markdown",
   "id": "832567ce",
   "metadata": {},
   "source": [
    "Great, now for the test/train split. As for the model design, we are a little constrained by our computing power, but we'll try to use as many reltively large convolutional network layers as possible. Our model is inspired by Akin-David et al. (2018)."
   ]
  },
  {
   "cell_type": "code",
   "execution_count": 41,
   "id": "bf814cf9",
   "metadata": {},
   "outputs": [],
   "source": [
    "x = quizzes_mat\n",
    "y = solutions_mat\n",
    "\n",
    "x_train, x_test, y_train, y_test = train_test_split(x,y, test_size=0.20, random_state=42, stratify=sudoku[\"clue_numbers\"])"
   ]
  },
  {
   "cell_type": "code",
   "execution_count": 42,
   "id": "2db80f65",
   "metadata": {},
   "outputs": [
    {
     "name": "stdout",
     "output_type": "stream",
     "text": [
      "(3200000, 9, 9, 1)\n"
     ]
    }
   ],
   "source": [
    "print(x_train.shape)"
   ]
  },
  {
   "cell_type": "code",
   "execution_count": null,
   "id": "347cf09c",
   "metadata": {},
   "outputs": [],
   "source": [
    "def create_model():\n",
    "    model = Sequential()\n",
    "    #We use 5 layers of Convolutional nodes, with 64 filters and a 3x3 kernel.\n",
    "    #3x3 kernels are typicl for performance and accuracy, and also lend themselves very well to the 9x9 sudoku puzzle\n",
    "    model.add(Conv2D(64, kernel_size=(3,3), activation='relu', padding='same', input_shape=(9,9,1)))\n",
    "    model.add(BatchNormalization())\n",
    "    model.add(Conv2D(64, kernel_size=(3,3), activation='relu', padding='same'))\n",
    "    model.add(BatchNormalization())\n",
    "    model.add(Conv2D(64, kernel_size=(3,3), activation='relu', padding='same'))\n",
    "    model.add(BatchNormalization())\n",
    "    model.add(Conv2D(64, kernel_size=(3,3), activation='relu', padding='same'))\n",
    "    model.add(BatchNormalization())\n",
    "    model.add(Conv2D(64, kernel_size=(1,1), activation='relu', padding='same'))\n",
    "    \n",
    "    #We flatten our last CNN layer and connect to an 81*9 dense layer, as we have 81 slots with 9 possible predictions\n",
    "    model.add(Flatten())\n",
    "    model.add(Dense(81*9))\n",
    "    \n",
    "    #We reshape our solution into a readable form, and activate with softmax to provide a probabilistic estimate\n",
    "    model.add(Reshape((-1, 9)))\n",
    "    model.add(Activation('softmax'))\n",
    "    \n",
    "    adam = keras.optimizers.Adam(learning_rate=.001)\n",
    "    model.compile(loss='sparse_categorical_crossentropy', optimizer='adam', metrics=['accuracy'])\n",
    "    \n",
    "    return model"
   ]
  },
  {
   "cell_type": "code",
   "execution_count": 50,
   "id": "c81730c0",
   "metadata": {},
   "outputs": [
    {
     "name": "stdout",
     "output_type": "stream",
     "text": [
      "Epoch 1/2\n",
      "50000/50000 [==============================] - 4714s 94ms/step - loss: 0.3661 - accuracy: 0.8351\n",
      "Epoch 2/2\n",
      "50000/50000 [==============================] - 5304s 106ms/step - loss: 0.3274 - accuracy: 0.8511\n"
     ]
    }
   ],
   "source": [
    "model = create_model()\n",
    "\n",
    "history = model.fit(x_train,y_train,epochs=2,batch_size=64)"
   ]
  },
  {
   "cell_type": "markdown",
   "id": "f2bf302a",
   "metadata": {},
   "source": [
    "After 2 epochs it seems that our loss is stabilizing around 0.325, with an accuracy of 85%. Not terrible, but not great.\n",
    "\n",
    "We could use the module show_keras_history to very quickly graph some of the stats of our training model, but due to the low number of epochs, this is a very boring graph..."
   ]
  },
  {
   "cell_type": "code",
   "execution_count": 53,
   "id": "6a88c62a",
   "metadata": {},
   "outputs": [
    {
     "data": {
      "image/png": "[encoded data removed]",
      "text/plain": [
       "<Figure size 720x360 with 2 Axes>"
      ]
     },
     "metadata": {
      "needs_background": "light"
     },
     "output_type": "display_data"
    }
   ],
   "source": [
    "show_history(history)\n",
    "plot_history(history, path=\"standard.png\")\n",
    "plt.close()"
   ]
  },
  {
   "cell_type": "markdown",
   "id": "d7f9280e",
   "metadata": {},
   "source": [
    "Let's view a couple of unsolved and then solved sudoku puzzles:"
   ]
  },
  {
   "cell_type": "code",
   "execution_count": 83,
   "id": "03353789",
   "metadata": {},
   "outputs": [
    {
     "data": {
      "image/png": "[encoded data removed]",
      "text/plain": [
       "<Figure size 432x288 with 1 Axes>"
      ]
     },
     "metadata": {
      "needs_background": "light"
     },
     "output_type": "display_data"
    }
   ],
   "source": [
    "m = flatten(((x_train.squeeze()[354]+0.5)*9))\n",
    "\n",
    "df = pd.DataFrame(np.array([(x+1, y+1) for x in range(int(sqrt(len(m)))) for y in range(int(sqrt(len(m))))]), columns = [\"x\",\"y\"])\n",
    "\n",
    "df[\"val\"] = m\n",
    "\n",
    "plot_sudoku(df)"
   ]
  },
  {
   "cell_type": "code",
   "execution_count": 82,
   "id": "8f8480e2",
   "metadata": {},
   "outputs": [
    {
     "name": "stdout",
     "output_type": "stream",
     "text": [
      "1/1 [==============================] - 0s 23ms/step\n"
     ]
    },
    {
     "data": {
      "image/png": "[encoded data removed]",
      "text/plain": [
       "<Figure size 432x288 with 1 Axes>"
      ]
     },
     "metadata": {
      "needs_background": "light"
     },
     "output_type": "display_data"
    }
   ],
   "source": [
    "m = model.predict(x_train[354].reshape((1,9,9,1))).squeeze()\n",
    "\n",
    "m = flatten(np.argmax(m, axis=1).reshape((9,9))+1)\n",
    "\n",
    "df = pd.DataFrame(np.array([(x+1, y+1) for x in range(int(sqrt(len(m)))) for y in range(int(sqrt(len(m))))]), columns = [\"x\",\"y\"])\n",
    "\n",
    "df[\"val\"] = m\n",
    "\n",
    "plot_sudoku(df)"
   ]
  },
  {
   "cell_type": "markdown",
   "id": "8e3ebfdd",
   "metadata": {},
   "source": [
    "Hurray, looks solved!"
   ]
  }
 ],
 "metadata": {
  "kernelspec": {
   "display_name": "Python 3 (ipykernel)",
   "language": "python",
   "name": "python3"
  },
  "language_info": {
   "codemirror_mode": {
    "name": "ipython",
    "version": 3
   },
   "file_extension": ".py",
   "mimetype": "text/x-python",
   "name": "python",
   "nbconvert_exporter": "python",
   "pygments_lexer": "ipython3",
   "version": "3.10.5"
  }
 },
 "nbformat": 4,
 "nbformat_minor": 5
}
